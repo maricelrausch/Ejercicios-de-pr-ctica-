{
 "cells": [
  {
   "cell_type": "code",
   "execution_count": 4,
   "metadata": {},
   "outputs": [],
   "source": [
    "class Ejemplo:\n",
    "    pass"
   ]
  },
  {
   "cell_type": "code",
   "execution_count": 5,
   "metadata": {},
   "outputs": [
    {
     "name": "stdout",
     "output_type": "stream",
     "text": [
      "<class '__main__.Ejemplo'>\n"
     ]
    }
   ],
   "source": [
    "f1=Ejemplo()\n",
    "f2=Ejemplo()\n",
    "#instanciamos dos clases de objetos\n",
    "print(type(f1))"
   ]
  },
  {
   "cell_type": "markdown",
   "metadata": {},
   "source": [
    "# metodo constructor"
   ]
  },
  {
   "cell_type": "code",
   "execution_count": 16,
   "metadata": {},
   "outputs": [],
   "source": [
    "#metodo constructor\n",
    "class Coche:\n",
    "    def __init__(self, marca, modelo, año, color):\n",
    "        self.marca = marca\n",
    "        self.modelo = modelo\n",
    "        self.año = año\n",
    "        self.color = color\n",
    "        \n",
    "    def mostrar_informacion(self):\n",
    "        print(f\"Marca: {self.marca}, Modelo: {self.modelo}, Año: {self.año}, Color: {self.color}\")\n",
    "\n"
   ]
  },
  {
   "cell_type": "code",
   "execution_count": 17,
   "metadata": {},
   "outputs": [
    {
     "name": "stdout",
     "output_type": "stream",
     "text": [
      "Marca: toyota, Modelo: corolla, Año: 2015, Color: rojo\n"
     ]
    }
   ],
   "source": [
    "#crear un objeto de la clase coche\n",
    "mi_coche=Coche(\"toyota\",\"corolla\",2015,\"rojo\")\n",
    "\n",
    "\n",
    "#llamar al metodo para mostrar información\n",
    "mi_coche.mostrar_informacion()"
   ]
  },
  {
   "cell_type": "code",
   "execution_count": 21,
   "metadata": {},
   "outputs": [
    {
     "data": {
      "text/plain": [
       "'Ford'"
      ]
     },
     "execution_count": 21,
     "metadata": {},
     "output_type": "execute_result"
    }
   ],
   "source": [
    "mi_coche1 = Coche(\"Honda\", \"Civic\", 2018, \"Azul\")\n",
    "mi_coche2 = Coche(\"Ford\", \"Mustang\", 2022, \"Negro\")\n",
    "mi_coche3 = Coche(\"Chevrolet\", \"Camaro\", 2020, \"Amarillo\")\n",
    "mi_coche4 = Coche(\"BMW\", \"Serie 3\", 2019, \"Blanco\")\n",
    "\n",
    "#llamaar un atributo\n",
    "mi_coche2.marca\n",
    "\n"
   ]
  },
  {
   "cell_type": "code",
   "execution_count": 20,
   "metadata": {},
   "outputs": [
    {
     "data": {
      "text/plain": [
       "5"
      ]
     },
     "execution_count": 20,
     "metadata": {},
     "output_type": "execute_result"
    }
   ],
   "source": [
    "#crear caaracteristicas especificas de un modelo\n",
    "mi_coche1.ruedas=5\n",
    "\n",
    "mi_coche1.ruedas"
   ]
  },
  {
   "cell_type": "code",
   "execution_count": 22,
   "metadata": {},
   "outputs": [],
   "source": [
    "class Gato:\n",
    "    num_patas = 4\n",
    "    orejas = 2\n",
    "    nombres = []\n",
    "\n",
    "    def __init__(self, nombre):\n",
    "        self.nombre = nombre\n",
    "        self.nombres.append(nombre)\n"
   ]
  },
  {
   "cell_type": "code",
   "execution_count": 26,
   "metadata": {},
   "outputs": [
    {
     "data": {
      "text/plain": [
       "(1, 2)"
      ]
     },
     "execution_count": 26,
     "metadata": {},
     "output_type": "execute_result"
    }
   ],
   "source": [
    "gato1 = Gato(\"Garfield\")\n",
    "gato2 = Gato(\"Don Gato\")\n",
    "\n",
    "# Muestro el número de patas de la clase Gato\n",
    "gato1.num_patas, gato2.orejas\n",
    "\n",
    "\n",
    "# Muestro el número de orejas de cada instancia\n",
    "gato1.orejas, gato2.orejas\n",
    "\n",
    "# Modifico el valor de las orejas para la instancia gato1\n",
    "gato1.orejas = 1\n",
    "\n",
    "# Muestro el número de orejas de cada instancia después de la modificación\n",
    "gato1.orejas, gato2.orejas"
   ]
  },
  {
   "cell_type": "code",
   "execution_count": 27,
   "metadata": {},
   "outputs": [
    {
     "data": {
      "text/plain": [
       "mappingproxy({'__module__': '__main__',\n",
       "              'num_patas': 4,\n",
       "              'orejas': 2,\n",
       "              'nombres': ['Garfield',\n",
       "               'Don Gato',\n",
       "               'Garfield',\n",
       "               'Don Gato',\n",
       "               'Garfield',\n",
       "               'Don Gato',\n",
       "               'Garfield',\n",
       "               'Don Gato'],\n",
       "              '__init__': <function __main__.Gato.__init__(self, nombre)>,\n",
       "              '__dict__': <attribute '__dict__' of 'Gato' objects>,\n",
       "              '__weakref__': <attribute '__weakref__' of 'Gato' objects>,\n",
       "              '__doc__': None})"
      ]
     },
     "execution_count": 27,
     "metadata": {},
     "output_type": "execute_result"
    }
   ],
   "source": [
    "vars(Gato)"
   ]
  },
  {
   "cell_type": "code",
   "execution_count": 33,
   "metadata": {},
   "outputs": [
    {
     "name": "stdout",
     "output_type": "stream",
     "text": [
      "{<function obtener_nombre at 0x00000145A053F2E0>}\n"
     ]
    }
   ],
   "source": [
    "def obtener_nombre(self):\n",
    "    return self.nombre\n",
    "\n",
    "print({obtener_nombre})"
   ]
  }
 ],
 "metadata": {
  "kernelspec": {
   "display_name": "Python 3",
   "language": "python",
   "name": "python3"
  },
  "language_info": {
   "codemirror_mode": {
    "name": "ipython",
    "version": 3
   },
   "file_extension": ".py",
   "mimetype": "text/x-python",
   "name": "python",
   "nbconvert_exporter": "python",
   "pygments_lexer": "ipython3",
   "version": "3.12.3"
  }
 },
 "nbformat": 4,
 "nbformat_minor": 2
}
