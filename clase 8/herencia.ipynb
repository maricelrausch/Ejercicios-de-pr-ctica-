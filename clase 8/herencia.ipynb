{
 "cells": [
  {
   "cell_type": "code",
   "execution_count": null,
   "metadata": {},
   "outputs": [],
   "source": []
  },
  {
   "cell_type": "code",
   "execution_count": null,
   "metadata": {},
   "outputs": [],
   "source": [
    "class Persona:\n",
    "    def __init__(self, nombre):\n",
    "        self.nombre = nombre\n",
    "\n",
    "    def saludar(self):\n",
    "        print(f\"Hola, mi nombre es {self.nombre}.\")\n",
    "\n",
    "class Estudiante(Persona):\n",
    "    materia_cursada = \"Programación II\"\n",
    "    ##el super se usa para heredar\n",
    "    def __init__(self, nombre, escuela):\n",
    "        super().__init__(nombre)\n",
    "        self.escuela = escuela\n"
   ]
  },
  {
   "cell_type": "code",
   "execution_count": 4,
   "metadata": {},
   "outputs": [],
   "source": [
    "class Empleado(Persona):\n",
    "    def __init__(self, nombre, empresa):\n",
    "        super().__init__(nombre)\n",
    "        self.empresa = empresa\n",
    "\n",
    "    def trabajar(self):\n",
    "        print(\"Estoy trabajando.\")\n",
    "\n"
   ]
  },
  {
   "cell_type": "code",
   "execution_count": 14,
   "metadata": {},
   "outputs": [
    {
     "name": "stdout",
     "output_type": "stream",
     "text": [
      "Datos de Coche:\n",
      " Marca: fiat\n",
      " Modelo: siena\n",
      " Año: 2015\n",
      " Color: gris\n",
      " Velocidad: 180\n"
     ]
    }
   ],
   "source": [
    "class Vehiculo:\n",
    "    def __init__(self, marca, modelo, año):\n",
    "        self.marca = marca\n",
    "        self.modelo = modelo\n",
    "        self.año = año\n",
    "\n",
    "class Coche(Vehiculo):\n",
    "    def __init__(self, marca, modelo, año, color, velocidad):\n",
    "        super().__init__(marca, modelo, año)\n",
    "        self.color = color\n",
    "        self.velocidad = velocidad\n",
    "    def info(self):\n",
    "        print(f\"Datos de Coche:\\n Marca: {self.marca}\\n Modelo: {self.modelo}\\n Año: {self.año}\\n Color: {self.color}\\n Velocidad: {self.velocidad}\")\n",
    "\n",
    "coche1= Coche (\"fiat\",\"siena\",2015,\"gris\",180)\n",
    "coche1.info()"
   ]
  }
 ],
 "metadata": {
  "kernelspec": {
   "display_name": "Python 3",
   "language": "python",
   "name": "python3"
  },
  "language_info": {
   "codemirror_mode": {
    "name": "ipython",
    "version": 3
   },
   "file_extension": ".py",
   "mimetype": "text/x-python",
   "name": "python",
   "nbconvert_exporter": "python",
   "pygments_lexer": "ipython3",
   "version": "3.12.3"
  }
 },
 "nbformat": 4,
 "nbformat_minor": 2
}
