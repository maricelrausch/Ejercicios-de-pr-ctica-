{
 "cells": [
  {
   "cell_type": "code",
   "execution_count": null,
   "metadata": {},
   "outputs": [],
   "source": [
    "numero = 0\n",
    "while numero <= 10: \n",
    "    print (numero)\n",
    "    numero = numero+1\n",
    "    "
   ]
  },
  {
   "cell_type": "code",
   "execution_count": null,
   "metadata": {},
   "outputs": [],
   "source": [
    "for i in range(1,21):\n",
    "    print (i)"
   ]
  },
  {
   "cell_type": "code",
   "execution_count": null,
   "metadata": {},
   "outputs": [],
   "source": [
    "    \n",
    "i = 1\n",
    "while i < 21:  # Cambiamos el límite a 20\n",
    "    if i % 2 == 0:\n",
    "        print(i)\n",
    "    i += 1\n"
   ]
  },
  {
   "cell_type": "code",
   "execution_count": null,
   "metadata": {},
   "outputs": [],
   "source": [
    "for n in range (1,31,2):\n",
    "    print(n)"
   ]
  },
  {
   "cell_type": "code",
   "execution_count": null,
   "metadata": {},
   "outputs": [],
   "source": [
    "num=int(input(\"ingrese un numero\"))\n",
    "for i in range (1,11):\n",
    "    print(f\"{num} x {i} = {i*num}\")"
   ]
  },
  {
   "cell_type": "code",
   "execution_count": 6,
   "metadata": {},
   "outputs": [
    {
     "name": "stdout",
     "output_type": "stream",
     "text": [
      "1 no aplica\n",
      "2 no aplica\n",
      "3 es multiplo de 3\n",
      "4 no aplica\n",
      "5 es multiplo de 5\n",
      "6 es multiplo de 3\n",
      "7 no aplica\n",
      "8 no aplica\n",
      "9 es multiplo de 3\n",
      "10 es multiplo de 5\n",
      "11 no aplica\n",
      "12 es multiplo de 3\n",
      "13 no aplica\n",
      "14 no aplica\n",
      "15 es multiplo de 3 y 5\n",
      "16 no aplica\n",
      "17 no aplica\n",
      "18 es multiplo de 3\n",
      "19 no aplica\n",
      "20 es multiplo de 5\n",
      "21 es multiplo de 3\n",
      "22 no aplica\n",
      "23 no aplica\n",
      "24 es multiplo de 3\n",
      "25 es multiplo de 5\n",
      "26 no aplica\n",
      "27 es multiplo de 3\n",
      "28 no aplica\n",
      "29 no aplica\n",
      "30 es multiplo de 3 y 5\n",
      "31 no aplica\n",
      "32 no aplica\n",
      "33 es multiplo de 3\n",
      "34 no aplica\n",
      "35 es multiplo de 5\n",
      "36 es multiplo de 3\n",
      "37 no aplica\n",
      "38 no aplica\n",
      "39 es multiplo de 3\n",
      "40 es multiplo de 5\n",
      "41 no aplica\n",
      "42 es multiplo de 3\n",
      "43 no aplica\n",
      "44 no aplica\n",
      "45 es multiplo de 3 y 5\n",
      "46 no aplica\n",
      "47 no aplica\n",
      "48 es multiplo de 3\n",
      "49 no aplica\n",
      "50 es multiplo de 5\n",
      "51 es multiplo de 3\n",
      "52 no aplica\n",
      "53 no aplica\n",
      "54 es multiplo de 3\n",
      "55 es multiplo de 5\n",
      "56 no aplica\n",
      "57 es multiplo de 3\n",
      "58 no aplica\n",
      "59 no aplica\n",
      "60 es multiplo de 3 y 5\n",
      "61 no aplica\n",
      "62 no aplica\n",
      "63 es multiplo de 3\n",
      "64 no aplica\n",
      "65 es multiplo de 5\n",
      "66 es multiplo de 3\n",
      "67 no aplica\n",
      "68 no aplica\n",
      "69 es multiplo de 3\n",
      "70 es multiplo de 5\n",
      "71 no aplica\n",
      "72 es multiplo de 3\n",
      "73 no aplica\n",
      "74 no aplica\n",
      "75 es multiplo de 3 y 5\n",
      "76 no aplica\n",
      "77 no aplica\n",
      "78 es multiplo de 3\n",
      "79 no aplica\n",
      "80 es multiplo de 5\n",
      "81 es multiplo de 3\n",
      "82 no aplica\n",
      "83 no aplica\n",
      "84 es multiplo de 3\n",
      "85 es multiplo de 5\n",
      "86 no aplica\n",
      "87 es multiplo de 3\n",
      "88 no aplica\n",
      "89 no aplica\n",
      "90 es multiplo de 3 y 5\n",
      "91 no aplica\n",
      "92 no aplica\n",
      "93 es multiplo de 3\n",
      "94 no aplica\n",
      "95 es multiplo de 5\n",
      "96 es multiplo de 3\n",
      "97 no aplica\n",
      "98 no aplica\n",
      "99 es multiplo de 3\n",
      "100 es multiplo de 5\n"
     ]
    }
   ],
   "source": [
    "for i in range (1,101):\n",
    "    if i%3 ==0 and i%5 ==0:\n",
    "        print (f\"{i} es multiplo de 3 y 5\")\n",
    "    elif i % 5 == 0:\n",
    "        print (f\"{i} es multiplo de 5\")\n",
    "    elif i % 3 == 0:\n",
    "        print (f\"{i} es multiplo de 3\")\n",
    "    else:\n",
    "        print (f\"{i} no aplica\")"
   ]
  },
  {
   "cell_type": "code",
   "execution_count": 9,
   "metadata": {},
   "outputs": [
    {
     "name": "stdout",
     "output_type": "stream",
     "text": [
      "el 73 es primo\n"
     ]
    }
   ],
   "source": [
    "num = int(input(\"ingrese un numero\"))\n",
    "contador = 0\n",
    "for i in range (1,num+1):\n",
    "    if num%i==0:\n",
    "        contador +=1\n",
    "        \n",
    "if contador == 2:\n",
    "    print(f\"el {num} es primo\")\n",
    "else: print(f\"el {num} no es primo\")"
   ]
  },
  {
   "cell_type": "code",
   "execution_count": null,
   "metadata": {},
   "outputs": [],
   "source": []
  }
 ],
 "metadata": {
  "kernelspec": {
   "display_name": "Python 3",
   "language": "python",
   "name": "python3"
  },
  "language_info": {
   "codemirror_mode": {
    "name": "ipython",
    "version": 3
   },
   "file_extension": ".py",
   "mimetype": "text/x-python",
   "name": "python",
   "nbconvert_exporter": "python",
   "pygments_lexer": "ipython3",
   "version": "3.12.3"
  }
 },
 "nbformat": 4,
 "nbformat_minor": 2
}
