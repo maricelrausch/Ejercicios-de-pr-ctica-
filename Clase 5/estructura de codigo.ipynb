{
 "cells": [
  {
   "cell_type": "code",
   "execution_count": 2,
   "metadata": {},
   "outputs": [
    {
     "name": "stdout",
     "output_type": "stream",
     "text": [
      "a es mas que b\n"
     ]
    }
   ],
   "source": [
    "a=int(input(\"2ingrese primero numero\"))\n",
    "b=int(input(\"2ingrese segundo numero\"))\n",
    "if a>b:\n",
    "    print(\"a es mas que b\")"
   ]
  }
 ],
 "metadata": {
  "kernelspec": {
   "display_name": "Python 3",
   "language": "python",
   "name": "python3"
  },
  "language_info": {
   "codemirror_mode": {
    "name": "ipython",
    "version": 3
   },
   "file_extension": ".py",
   "mimetype": "text/x-python",
   "name": "python",
   "nbconvert_exporter": "python",
   "pygments_lexer": "ipython3",
   "version": "3.12.3"
  }
 },
 "nbformat": 4,
 "nbformat_minor": 2
}
