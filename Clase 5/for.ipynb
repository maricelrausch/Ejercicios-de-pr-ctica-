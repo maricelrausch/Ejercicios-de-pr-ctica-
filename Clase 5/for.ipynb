{
 "cells": [
  {
   "cell_type": "code",
   "execution_count": 3,
   "metadata": {},
   "outputs": [
    {
     "name": "stdout",
     "output_type": "stream",
     "text": [
      "rojo\n",
      "amarillo\n",
      "violeta\n",
      "['rojo', 'gris', 'amarillo', 'verde', 'marron', 'violeta', 'azul']\n",
      "El color ahora es igual a rojo\n",
      "El color ahora es igual a gris\n",
      "El color ahora es igual a amarillo\n",
      "El color ahora es igual a verde\n",
      "El color ahora es igual a marron\n",
      "El color ahora es igual a violeta\n",
      "El color ahora es igual a azul\n"
     ]
    }
   ],
   "source": [
    "colores= ['rojo','amarillo','verde','marron','violeta']\n",
    "print(colores[0])\n",
    "print(colores[1])\n",
    "print(colores[4])\n",
    "colores.append(\"azul\")\n",
    "colores.insert(1,\"gris\")\n",
    "print(colores)\n",
    "\n",
    "for p in colores:\n",
    "    print (f'El color ahora es igual a {p}')"
   ]
  },
  {
   "cell_type": "code",
   "execution_count": null,
   "metadata": {},
   "outputs": [],
   "source": [
    " "
   ]
  },
  {
   "cell_type": "markdown",
   "metadata": {},
   "source": [
    "# Para un rango de 0 a 200 con saltos de 5"
   ]
  },
  {
   "cell_type": "code",
   "execution_count": null,
   "metadata": {},
   "outputs": [],
   "source": [
    "for numero in range (0,200,5):\n",
    "    print(numero)"
   ]
  },
  {
   "cell_type": "code",
   "execution_count": 5,
   "metadata": {},
   "outputs": [
    {
     "name": "stdout",
     "output_type": "stream",
     "text": [
      "5\n"
     ]
    }
   ],
   "source": [
    "colores= ['rojo','amarillo','verde','marron','violeta']\n",
    "print(len(colores))"
   ]
  },
  {
   "cell_type": "code",
   "execution_count": null,
   "metadata": {},
   "outputs": [
    {
     "name": "stdout",
     "output_type": "stream",
     "text": [
      "el elemento en la posicion 0 de los colores es rojo\n",
      "el elemento en la posicion 2 de los colores es verde\n"
     ]
    }
   ],
   "source": [
    "for item in range (0,3):\n",
    "    print(f\"el elemento en la posicion {item} de los colores es {colores[item]}\")\n",
    "    "
   ]
  },
  {
   "cell_type": "code",
   "execution_count": null,
   "metadata": {},
   "outputs": [],
   "source": [
    "#para recorrer lista y mostrarla en forma de tupla con indice\n",
    "\n",
    "\n",
    "for color in enumerate(colores):\n",
    "    print (color)"
   ]
  },
  {
   "cell_type": "code",
   "execution_count": null,
   "metadata": {},
   "outputs": [
    {
     "name": "stdout",
     "output_type": "stream",
     "text": [
      "nombre\n",
      "edad\n",
      "direccion\n",
      "telefono\n",
      "email\n",
      "fecha_nacimiento\n",
      "ocupacion\n",
      "intereses\n"
     ]
    }
   ],
   "source": [
    "#recorrer diccionario\n",
    "\n",
    "persona = {\n",
    "    \"nombre\": \"Juan Pérez\",\n",
    "    \"edad\": 30,\n",
    "    \"direccion\": {\n",
    "        \"calle\": \"Av. Siempre Viva\",\n",
    "        \"numero\": 742,\n",
    "        \"ciudad\": \"Springfield\",\n",
    "        \"pais\": \"Estados Unidos\"\n",
    "    },\n",
    "    \"telefono\": {\n",
    "        \"tipo\": \"móvil\",\n",
    "        \"numero\": \"555-1234\"\n",
    "    },\n",
    "    \"email\": \"juan.perez@example.com\",\n",
    "    \"fecha_nacimiento\": \"1993-05-15\",\n",
    "    \"ocupacion\": \"Ingeniero de software\",\n",
    "    \"intereses\": [\"programación\", \"fútbol\", \"viajar\"] }\n",
    "\n",
    "for b in persona.keys():\n",
    "    print (b)"
   ]
  },
  {
   "cell_type": "code",
   "execution_count": null,
   "metadata": {},
   "outputs": [
    {
     "name": "stdout",
     "output_type": "stream",
     "text": [
      "h\n",
      "e\n",
      "l\n",
      "l\n",
      "o\n"
     ]
    }
   ],
   "source": [
    "#recorrer letra por letra\n",
    "\n",
    "texto=\"hello\"\n",
    "for l in texto:\n",
    "    print (l)"
   ]
  }
 ],
 "metadata": {
  "kernelspec": {
   "display_name": "Python 3",
   "language": "python",
   "name": "python3"
  },
  "language_info": {
   "codemirror_mode": {
    "name": "ipython",
    "version": 3
   },
   "file_extension": ".py",
   "mimetype": "text/x-python",
   "name": "python",
   "nbconvert_exporter": "python",
   "pygments_lexer": "ipython3",
   "version": "3.12.3"
  }
 },
 "nbformat": 4,
 "nbformat_minor": 2
}
