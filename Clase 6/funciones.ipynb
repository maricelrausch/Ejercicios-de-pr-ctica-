{
 "cells": [
  {
   "cell_type": "code",
   "execution_count": 1,
   "metadata": {},
   "outputs": [
    {
     "name": "stdout",
     "output_type": "stream",
     "text": [
      "Hola, me llamo Juan Perez y tengo 20\n"
     ]
    }
   ],
   "source": [
    "def saludo (nombre, apellido, edad=20):\n",
    "    print(f\"Hola, me llamo {nombre} {apellido} y tengo {edad}\")\n",
    "    \n",
    "saludo (\"Juan\", \"Perez\") # Hola, me llamo Juan Perez y tengo 20"
   ]
  },
  {
   "cell_type": "code",
   "execution_count": 6,
   "metadata": {},
   "outputs": [],
   "source": [
    "#Si uso el return, despues puedo volver a usarlo\n",
    "\n",
    "\n",
    "def operacion (num, num2):\n",
    "    return num * num2\n"
   ]
  },
  {
   "cell_type": "code",
   "execution_count": 7,
   "metadata": {},
   "outputs": [
    {
     "data": {
      "text/plain": [
       "150"
      ]
     },
     "execution_count": 7,
     "metadata": {},
     "output_type": "execute_result"
    }
   ],
   "source": [
    "operacion (10,15)\n"
   ]
  },
  {
   "cell_type": "markdown",
   "metadata": {},
   "source": [
    "Crear una función llamada “usuario” que reciba como parámetro un\n",
    " nombre y devuelva un mensaje “Bienvenido al sistema {nombre}”"
   ]
  },
  {
   "cell_type": "code",
   "execution_count": 14,
   "metadata": {},
   "outputs": [],
   "source": [
    "#Crear una función llamada “usuario” que reciba como parámetro un\n",
    "#nombre y devuelva un mensaje “Bienvenido al sistema {nombre}”\n",
    "def usuario(nombre):\n",
    "    return (f\"Bienvenido al sistema {nombre}\")\n",
    "\n"
   ]
  },
  {
   "cell_type": "code",
   "execution_count": 15,
   "metadata": {},
   "outputs": [
    {
     "data": {
      "text/plain": [
       "'Bienvenido al sistema juan'"
      ]
     },
     "execution_count": 15,
     "metadata": {},
     "output_type": "execute_result"
    }
   ],
   "source": [
    "#llamar a la función “usuario”\n",
    "usuario(\"juan\")"
   ]
  },
  {
   "cell_type": "code",
   "execution_count": 17,
   "metadata": {},
   "outputs": [],
   "source": [
    "\"\"\" Crea una función que reciba dos números y una operación (suma,\n",
    " resta, multiplicación, división) y devuelva el resultado.\"\"\"\n",
    " \n",
    "def operaciones(num1, num2, operacion):\n",
    "    if operacion == 1:\n",
    "        return num1 + num2\n",
    "    elif operacion == 2:\n",
    "        return num1 - num2\n",
    "    elif operacion == 3:\n",
    "        return num1 * num2\n",
    "    elif operacion == 4:\n",
    "        return num1 / num2\n",
    "    else:\n",
    "        return \"Operación no valida\""
   ]
  },
  {
   "cell_type": "code",
   "execution_count": 20,
   "metadata": {},
   "outputs": [
    {
     "name": "stdout",
     "output_type": "stream",
     "text": [
      "seleccione una opcion \n",
      " 1-suma, 2-resta, 3-multiplcacion,4-division\n",
      "9\n"
     ]
    }
   ],
   "source": [
    "num1=int(input(\"ingrese numero1\"))\n",
    "num2=int(input(\"ingrese numero2\"))\n",
    "print (\"seleccione una opcion \\n 1-suma, 2-resta, 3-multiplcacion,4-division\")\n",
    "operacion=int(input(\"elija una operacion\"))\n",
    "resultado= operaciones (num1, num2, operacion)\n",
    "print (resultado)"
   ]
  }
 ],
 "metadata": {
  "kernelspec": {
   "display_name": "Python 3",
   "language": "python",
   "name": "python3"
  },
  "language_info": {
   "codemirror_mode": {
    "name": "ipython",
    "version": 3
   },
   "file_extension": ".py",
   "mimetype": "text/x-python",
   "name": "python",
   "nbconvert_exporter": "python",
   "pygments_lexer": "ipython3",
   "version": "3.12.3"
  }
 },
 "nbformat": 4,
 "nbformat_minor": 2
}
