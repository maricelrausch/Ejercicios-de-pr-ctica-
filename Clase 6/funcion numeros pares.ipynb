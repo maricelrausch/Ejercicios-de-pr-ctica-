{
 "cells": [
  {
   "cell_type": "code",
   "execution_count": 3,
   "metadata": {},
   "outputs": [],
   "source": [
    "lista1=[25,16,58,16,28,13,90]\n",
    "def numeros_pares(lista):\n",
    "    pares=[]\n",
    "    for i in lista:\n",
    "        if i%2==0:\n",
    "            pares.append(i)\n",
    "        else :\n",
    "            continue\n",
    "    return pares"
   ]
  },
  {
   "cell_type": "code",
   "execution_count": 4,
   "metadata": {},
   "outputs": [
    {
     "name": "stdout",
     "output_type": "stream",
     "text": [
      "[16, 58, 16, 28, 90]\n"
     ]
    }
   ],
   "source": [
    "mostrar_pares=numeros_pares(lista1)\n",
    "print(mostrar_pares)"
   ]
  }
 ],
 "metadata": {
  "kernelspec": {
   "display_name": "Python 3",
   "language": "python",
   "name": "python3"
  },
  "language_info": {
   "codemirror_mode": {
    "name": "ipython",
    "version": 3
   },
   "file_extension": ".py",
   "mimetype": "text/x-python",
   "name": "python",
   "nbconvert_exporter": "python",
   "pygments_lexer": "ipython3",
   "version": "3.12.3"
  }
 },
 "nbformat": 4,
 "nbformat_minor": 2
}
