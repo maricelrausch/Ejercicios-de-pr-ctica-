{
 "cells": [
  {
   "cell_type": "code",
   "execution_count": 1,
   "metadata": {},
   "outputs": [],
   "source": [
    "libro = {\n",
    "    \"titulo\": \"el señor de los anillos\",\n",
    "    \"autor\": \"J.R. Tolkien\",\n",
    "    \"año\": 1954\n",
    "}\n",
    "\n",
    "def mostrar_libro(libros):\n",
    "    for i in libros:\n",
    "        print(i, \":\", libros[i])\n"
   ]
  },
  {
   "cell_type": "code",
   "execution_count": 2,
   "metadata": {},
   "outputs": [
    {
     "name": "stdout",
     "output_type": "stream",
     "text": [
      "titulo : el señor de los anillos\n",
      "autor : J.R. Tolkien\n",
      "año : 1954\n"
     ]
    }
   ],
   "source": [
    "mostrar_libro(libro)"
   ]
  }
 ],
 "metadata": {
  "kernelspec": {
   "display_name": "Python 3",
   "language": "python",
   "name": "python3"
  },
  "language_info": {
   "codemirror_mode": {
    "name": "ipython",
    "version": 3
   },
   "file_extension": ".py",
   "mimetype": "text/x-python",
   "name": "python",
   "nbconvert_exporter": "python",
   "pygments_lexer": "ipython3",
   "version": "3.12.3"
  }
 },
 "nbformat": 4,
 "nbformat_minor": 2
}
