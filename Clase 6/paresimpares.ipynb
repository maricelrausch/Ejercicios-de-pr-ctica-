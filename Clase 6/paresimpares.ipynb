{
 "cells": [
  {
   "cell_type": "markdown",
   "metadata": {},
   "source": [
    "Escribir un programa que cuente cuántos números positivos y negativos hay en una lista dada. Utilizar un bucle for y\n",
    "condicionales."
   ]
  },
  {
   "cell_type": "code",
   "execution_count": 2,
   "metadata": {},
   "outputs": [
    {
     "name": "stdout",
     "output_type": "stream",
     "text": [
      "la cantidad de negativos es 3\n",
      "la cantidad de positivos es6\n"
     ]
    }
   ],
   "source": [
    "\n",
    "pos_neg=[15,23,89,31,-25,46,-36,12,-98]\n",
    "negativos=[]\n",
    "positivos=[]\n",
    "for i in pos_neg:\n",
    "    if i<0:\n",
    "        negativos.append(i)\n",
    "    else:\n",
    "        positivos.append(i)\n",
    "print(f\"la cantidad de negativos es {len(negativos)}\")\n",
    "print(f\"la cantidad de positivos es{len(positivos)}\")"
   ]
  },
  {
   "cell_type": "code",
   "execution_count": 6,
   "metadata": {},
   "outputs": [],
   "source": [
    "estudiantes_notas = [(\"Gonzalo\", 8), (\"Juan\", 9), (\"Pedro\", 7), (\"Dario\", 10)]\n",
    "\n",
    "def obtener_calificacion_mas_alta(lista):\n",
    "    calificacion_mas_alta = 0\n",
    "    nombre=\"\"\n",
    "    for i,j in lista:\n",
    "        if j > calificacion_mas_alta:\n",
    "            calificacion_mas_alta = j\n",
    "            nombre=i\n",
    "    return nombre, calificacion_mas_alta\n",
    "\n",
    "\n",
    "    \n",
    "    "
   ]
  },
  {
   "cell_type": "code",
   "execution_count": 7,
   "metadata": {},
   "outputs": [
    {
     "name": "stdout",
     "output_type": "stream",
     "text": [
      "('Dario', 10)\n"
     ]
    }
   ],
   "source": [
    "\n",
    "nota_maxima=obtener_calificacion_mas_alta(estudiantes_notas)\n",
    "print(obtener_calificacion_mas_alta(estudiantes_notas))"
   ]
  },
  {
   "cell_type": "code",
   "execution_count": null,
   "metadata": {},
   "outputs": [],
   "source": []
  }
 ],
 "metadata": {
  "kernelspec": {
   "display_name": "Python 3",
   "language": "python",
   "name": "python3"
  },
  "language_info": {
   "codemirror_mode": {
    "name": "ipython",
    "version": 3
   },
   "file_extension": ".py",
   "mimetype": "text/x-python",
   "name": "python",
   "nbconvert_exporter": "python",
   "pygments_lexer": "ipython3",
   "version": "3.12.3"
  }
 },
 "nbformat": 4,
 "nbformat_minor": 2
}
