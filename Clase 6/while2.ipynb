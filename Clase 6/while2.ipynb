{
 "cells": [
  {
   "cell_type": "code",
   "execution_count": 5,
   "metadata": {},
   "outputs": [
    {
     "name": "stdout",
     "output_type": "stream",
     "text": [
      "es primo\n"
     ]
    }
   ],
   "source": [
    "num = int(input(\"ingrese numero\"))\n",
    "contador = 0\n",
    "i=1\n",
    "while i <=num:\n",
    "    if num % i == 0:\n",
    "        contador+=1\n",
    "    i+=1\n",
    "if contador == 2: \n",
    "    print (\"es primo\")\n",
    "else:\n",
    "    print (\"no es primo\")"
   ]
  },
  {
   "cell_type": "code",
   "execution_count": null,
   "metadata": {},
   "outputs": [
    {
     "name": "stdout",
     "output_type": "stream",
     "text": [
      "el numero11 es primo\n"
     ]
    }
   ],
   "source": [
    "#aca recorre todos los numeros desde el 2 hasta el numero insertado -1. Si el resto de división es 0, significa que no es primo \n",
    "#porque tiene un divisor diferente de si mismo o de 1. Si no encuentra ningun divisor, significa que es primo y lo imprime.\n",
    "num = int(input(\"ingrese numero\"))\n",
    "es_primo=True\n",
    "for i in range(2,numº):\n",
    "    if num%i==0:\n",
    "        es_primo=False\n",
    "        break\n",
    "    \n",
    "if es_primo and num>1:\n",
    "    print (f\"el numero{num} es primo\")\n",
    "else:\n",
    "    print (f\"el numero{num} no es primo\")"
   ]
  }
 ],
 "metadata": {
  "kernelspec": {
   "display_name": "Python 3",
   "language": "python",
   "name": "python3"
  },
  "language_info": {
   "codemirror_mode": {
    "name": "ipython",
    "version": 3
   },
   "file_extension": ".py",
   "mimetype": "text/x-python",
   "name": "python",
   "nbconvert_exporter": "python",
   "pygments_lexer": "ipython3",
   "version": "3.12.3"
  }
 },
 "nbformat": 4,
 "nbformat_minor": 2
}
